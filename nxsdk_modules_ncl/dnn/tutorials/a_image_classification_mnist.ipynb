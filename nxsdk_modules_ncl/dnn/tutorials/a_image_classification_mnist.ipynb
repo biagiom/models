{
 "cells": [
  {
   "cell_type": "code",
   "execution_count": 1,
   "metadata": {
    "pycharm": {
     "is_executing": false
    }
   },
   "outputs": [],
   "source": [
    "# Copyright © 2020 Intel Corporation.\n",
    "#\n",
    "# This software and the related documents are Intel copyrighted\n",
    "# materials, and your use of them is governed by the express\n",
    "# license under which they were provided to you (License). Unless\n",
    "# the License provides otherwise, you may not use, modify, copy,\n",
    "# publish, distribute, disclose or transmit  this software or the\n",
    "# related documents without Intel's prior written permission.\n",
    "#\n",
    "# This software and the related documents are provided as is, with\n",
    "# no express or implied warranties, other than those that are\n",
    "# expressly stated in the License."
   ]
  },
  {
   "cell_type": "markdown",
   "metadata": {},
   "source": [
    "# Image classification: MNIST"
   ]
  },
  {
   "cell_type": "markdown",
   "metadata": {},
   "source": [
    "## Imports"
   ]
  },
  {
   "cell_type": "code",
   "execution_count": 2,
   "metadata": {
    "pycharm": {
     "is_executing": false
    }
   },
   "outputs": [],
   "source": [
    "import os\n",
    "import sys\n",
    "import numpy as np\n",
    "import matplotlib\n",
    "matplotlib.use(\"Agg\")\n",
    "import matplotlib.pyplot as plt\n",
    "import time\n",
    "\n",
    "# Enable SLURM to run network on Loihi.\n",
    "os.environ['SLURM'] = '1'\n",
    "os.environ['PYTHONUNBUFFERED'] = '1'\n",
    "os.environ['PARTITION'] = 'nahuku32'\n",
    "sys.path.insert(0, \"/homes/biagiom/intel-nrc-models\")\n",
    "\n",
    "snipDir = os.path.abspath(os.path.join('..', 'snips', 'reset_model_states'))"
   ]
  },
  {
   "cell_type": "markdown",
   "metadata": {},
   "source": [
    "## Introduction"
   ]
  },
  {
   "cell_type": "markdown",
   "metadata": {
    "pycharm": {
     "name": "#%% md\n"
    }
   },
   "source": [
    "Deep neural networks can be executed on Loihi via the NxTF interface:\n",
    "- NxTF provides a set of custom Keras layers that can be used to define feedforward networks (currently only convolutional layers).\n",
    "- NxTF also comes with a special DNN compiler that distributes individual layers accross multiple Loihi cores in an optimal way using Loihi's connectivity compression featuers.\n",
    "- NxTF connects directly to Loihi and provides interactive access to network state.\n",
    "\n",
    "DNNs can currently be configured in one of two ways:\n",
    "- SLAYER can be used to train DNNs offline and its output can be converted to build a Keras model using NxLayers.\n",
    "- Traditional (off-the-shelf) ANNs can be converted using the SNN-Toolbox to an equivalent SNN represenation. \n",
    "\n",
    "In this tutorial we go the latter route and define and train an ANN in Keras for MNIST which then gets converted into a Loihi spiking model."
   ]
  },
  {
   "cell_type": "markdown",
   "metadata": {
    "pycharm": {
     "is_executing": true
    }
   },
   "source": [
    "![](figures/NxTF_Overview.png \"Overview\")"
   ]
  },
  {
   "cell_type": "markdown",
   "metadata": {},
   "source": [
    "## Parameter definition"
   ]
  },
  {
   "cell_type": "code",
   "execution_count": 3,
   "metadata": {
    "pycharm": {
     "is_executing": false,
     "name": "#%%\n"
    }
   },
   "outputs": [],
   "source": [
    "batch_size = 32\n",
    "num_training_epochs = 2\n",
    "input_shape = (28, 28, 1)\n",
    "\n",
    "num_steps_per_img = 512\n",
    "num_train_samples = 60000\n",
    "num_test_samples = 128\n",
    "\n",
    "# EnergyProbes allow to profile execution time, power and thus energy consumption\n",
    "enable_energy_probe = True\n",
    "execution_time_probe_bin_size = 512 # Small numbers slows down execution\n",
    "\n",
    "# Not yet supported\n",
    "measure_accuracy_runtime_trade_off = False # Not yet supported\n",
    "runtimes = [128, 256, 512, 1024, 2048]"
   ]
  },
  {
   "cell_type": "markdown",
   "metadata": {
    "pycharm": {
     "name": "#%% md\n"
    }
   },
   "source": [
    "## Load dataset\n"
   ]
  },
  {
   "cell_type": "code",
   "execution_count": 4,
   "metadata": {
    "pycharm": {
     "is_executing": false,
     "name": "#%%\n"
    }
   },
   "outputs": [],
   "source": [
    "from tensorflow.keras.datasets import mnist\n",
    "from tensorflow.keras.utils import to_categorical\n",
    "\n",
    "# Load standard MNIST dataset\n",
    "(x_train, y_train), (x_test, y_test) = mnist.load_data()\n",
    "\n",
    "# Normalize input so we can train ANN with it. \n",
    "# Will be converted back to integers for SNN layer.\n",
    "x_train = x_train[:num_train_samples, :, :] / 255\n",
    "x_test = x_test / 255\n",
    "\n",
    "# Add a channel dimension.\n",
    "x_train = np.expand_dims(x_train, -1)\n",
    "x_test = np.expand_dims(x_test, -1)\n",
    "\n",
    "# One-hot encode target vectors.\n",
    "y_train = to_categorical(y_train[:num_train_samples], 10)\n",
    "y_test = to_categorical(y_test, 10)"
   ]
  },
  {
   "cell_type": "markdown",
   "metadata": {
    "pycharm": {
     "name": "#%% md\n"
    }
   },
   "source": [
    "## Setup DNN in Keras\n",
    "Here we create a conventional DNN through the native Keras interface and train the model on the provided dataset on the super host (the training is not happening on Loihi). Alternatively, we can load a pre-trained model to save time."
   ]
  },
  {
   "cell_type": "code",
   "execution_count": 5,
   "metadata": {
    "pycharm": {
     "is_executing": false,
     "name": "#%%\n"
    }
   },
   "outputs": [
    {
     "name": "stdout",
     "output_type": "stream",
     "text": [
      "Epoch 1/2\n",
      "1875/1875 - 16s - val_loss: 0.0663 - accuracy: 0.9344 - val_accuracy: 0.9788 - loss: 0.2150\n",
      "Epoch 2/2\n",
      "1875/1875 - 15s - val_loss: 0.0450 - accuracy: 0.9774 - val_accuracy: 0.9858 - loss: 0.0742\n",
      "Model: \"functional_1\"\n",
      "_________________________________________________________________\n",
      "Layer (type)                 Output Shape              Param #   \n",
      "=================================================================\n",
      "input_1 (InputLayer)         [(None, 28, 28, 1)]       0         \n",
      "_________________________________________________________________\n",
      "conv2d (Conv2D)              (None, 12, 12, 16)        416       \n",
      "_________________________________________________________________\n",
      "dropout (Dropout)            (None, 12, 12, 16)        0         \n",
      "_________________________________________________________________\n",
      "conv2d_1 (Conv2D)            (None, 10, 10, 32)        4640      \n",
      "_________________________________________________________________\n",
      "dropout_1 (Dropout)          (None, 10, 10, 32)        0         \n",
      "_________________________________________________________________\n",
      "conv2d_2 (Conv2D)            (None, 4, 4, 64)          18496     \n",
      "_________________________________________________________________\n",
      "dropout_2 (Dropout)          (None, 4, 4, 64)          0         \n",
      "_________________________________________________________________\n",
      "conv2d_3 (Conv2D)            (None, 1, 1, 10)          10250     \n",
      "_________________________________________________________________\n",
      "flatten (Flatten)            (None, 10)                0         \n",
      "=================================================================\n",
      "Total params: 33,802\n",
      "Trainable params: 33,802\n",
      "Non-trainable params: 0\n",
      "_________________________________________________________________\n"
     ]
    }
   ],
   "source": [
    "import os\n",
    "from tensorflow.keras.models import Model, load_model\n",
    "from tensorflow.keras.layers import Dropout, Flatten, Conv2D, Input\n",
    "\n",
    "train_model = False\n",
    "    \n",
    "# Path for pre-trained model\n",
    "# Path for pre-trained model\n",
    "pretrained_model_path = os.path.join(os.path.abspath(''),\n",
    "                                     'models', \n",
    "                                     'a_minist_model.h5')\n",
    "    \n",
    "# Generate model\n",
    "if train_model or not os.path.isfile(pretrained_model_path):\n",
    "    # Define model\n",
    "    input_layer = Input(input_shape)\n",
    "\n",
    "    layer = Conv2D(filters=16, \n",
    "                   kernel_size=(5, 5), \n",
    "                   strides=(2, 2), \n",
    "                   input_shape=input_shape,\n",
    "                   activation='relu')(input_layer)\n",
    "    layer = Dropout(0.1)(layer)\n",
    "    layer = Conv2D(filters=32, \n",
    "                   kernel_size=(3, 3), \n",
    "                   activation='relu')(layer)\n",
    "    layer = Dropout(0.1)(layer)\n",
    "    layer = Conv2D(filters=64, \n",
    "                   kernel_size=(3, 3), \n",
    "                   strides=(2, 2), \n",
    "                   activation='relu')(layer)\n",
    "    layer = Dropout(0.1)(layer)\n",
    "    layer = Conv2D(filters=10, \n",
    "                   kernel_size=(4, 4), \n",
    "                   activation='softmax')(layer)\n",
    "    layer = Flatten()(layer)\n",
    "\n",
    "    ann_model = Model(input_layer, layer)\n",
    "\n",
    "    ann_model.compile('adam', 'categorical_crossentropy', metrics=['accuracy'])\n",
    "    \n",
    "    # Training \n",
    "    ann_model.fit(x_train, y_train, batch_size, num_training_epochs, verbose=2,\n",
    "          validation_data=(x_test, y_test))\n",
    "    \n",
    "    # Save model\n",
    "    ann_model.save(pretrained_model_path)\n",
    "else:\n",
    "    # Load pre-trained model\n",
    "    ann_model = load_model(pretrained_model_path)\n",
    "    \n",
    "ann_model.summary()"
   ]
  },
  {
   "cell_type": "markdown",
   "metadata": {
    "pycharm": {
     "name": "#%% md\n"
    }
   },
   "source": [
    "## Create Loihi model\n",
    "Here we expose what would otherwise happen within the SNN-Toolbox\n",
    "### Setup spiking model"
   ]
  },
  {
   "cell_type": "code",
   "execution_count": 6,
   "metadata": {},
   "outputs": [
    {
     "data": {
      "text/plain": [
       "['/homes/biagiom/intel-nrc-models',\n",
       " '/homes/biagiom/nxsdk-apps',\n",
       " '/usr/lib/python35.zip',\n",
       " '/usr/lib/python3.5',\n",
       " '/usr/lib/python3.5/plat-x86_64-linux-gnu',\n",
       " '/usr/lib/python3.5/lib-dynload',\n",
       " '',\n",
       " '/homes/biagiom/python3_venv/lib/python3.5/site-packages',\n",
       " '/homes/biagiom/python3_venv/lib/python3.5/site-packages/IPython/extensions',\n",
       " '/homes/biagiom/.ipython']"
      ]
     },
     "execution_count": 6,
     "metadata": {},
     "output_type": "execute_result"
    }
   ],
   "source": [
    "import sys\n",
    "sys.path"
   ]
  },
  {
   "cell_type": "code",
   "execution_count": 7,
   "metadata": {
    "pycharm": {
     "is_executing": false,
     "name": "#%%\n"
    }
   },
   "outputs": [
    {
     "name": "stdout",
     "output_type": "stream",
     "text": [
      "Model: \"nx_model\"\n",
      "_________________________________________________________________\n",
      "Layer (type)                 Output Shape              Param #   \n",
      "=================================================================\n",
      "input_2 (NxInputLayer)       (None, 28, 28, 1)         0         \n",
      "_________________________________________________________________\n",
      "nx_conv2d (NxConv2D)         (None, 12, 12, 16)        416       \n",
      "_________________________________________________________________\n",
      "nx_conv2d_1 (NxConv2D)       (None, 10, 10, 32)        4640      \n",
      "_________________________________________________________________\n",
      "nx_conv2d_2 (NxConv2D)       (None, 4, 4, 64)          18496     \n",
      "_________________________________________________________________\n",
      "nx_conv2d_3 (NxConv2D)       (None, 1, 1, 10)          10250     \n",
      "=================================================================\n",
      "Total params: 33,802\n",
      "Trainable params: 33,802\n",
      "Non-trainable params: 0\n",
      "_________________________________________________________________\n"
     ]
    }
   ],
   "source": [
    "from nxsdk_modules_ncl.dnn.src.utils import extract\n",
    "from nxsdk_modules_ncl.dnn.src.dnn_layers import NxInputLayer, NxConv2D, \\\n",
    "    NxModel, ProbableStates\n",
    "\n",
    "vth_mant = 2**9\n",
    "bias_exp = 6\n",
    "weight_exponent = 0\n",
    "synapse_encoding = 'sparse'\n",
    "\n",
    "inputLayer = NxInputLayer(input_shape, \n",
    "                             vThMant=vth_mant, \n",
    "                             biasExp=bias_exp)\n",
    "        \n",
    "layer = NxConv2D(filters=16, \n",
    "                 kernel_size=(5, 5), \n",
    "                 strides=(2, 2), \n",
    "                 input_shape=input_shape,\n",
    "                 vThMant=vth_mant,\n",
    "                 weightExponent=weight_exponent,\n",
    "                 synapseEncoding=synapse_encoding)(inputLayer.input)\n",
    "layer = NxConv2D(filters=32, \n",
    "                 kernel_size=(3, 3), \n",
    "                 vThMant=vth_mant,\n",
    "                 weightExponent=weight_exponent,\n",
    "                 synapseEncoding=synapse_encoding)(layer)\n",
    "layer = NxConv2D(filters=64, \n",
    "                 kernel_size=(3, 3), \n",
    "                 strides=(2, 2), \n",
    "                 vThMant=vth_mant,\n",
    "                 weightExponent=weight_exponent,\n",
    "                 synapseEncoding=synapse_encoding)(layer)\n",
    "layer = NxConv2D(filters=10, \n",
    "                 kernel_size=(4, 4), \n",
    "                 activation='softmax', \n",
    "                 vThMant=vth_mant,\n",
    "                 weightExponent=weight_exponent,\n",
    "                 synapseEncoding=synapse_encoding)(layer)\n",
    "\n",
    "snn_nxmodel = NxModel(inputLayer.input, layer,\n",
    "                        numCandidatesToCompute=1)\n",
    "\n",
    "snn_nxmodel.summary()"
   ]
  },
  {
   "cell_type": "markdown",
   "metadata": {
    "pycharm": {
     "name": "#%% md\n"
    }
   },
   "source": [
    "### Convert floating point weights to 8-bit integers"
   ]
  },
  {
   "cell_type": "code",
   "execution_count": 8,
   "metadata": {
    "pycharm": {
     "is_executing": false,
     "name": "#%%\n"
    }
   },
   "outputs": [],
   "source": [
    "from nxsdk_modules_ncl.dnn.src.utils import to_integer\n",
    "\n",
    "# Extract weights and biases from parameter list.\n",
    "parameters = ann_model.get_weights()\n",
    "weights = parameters[0::2]\n",
    "biases = parameters[1::2]\n",
    "\n",
    "# Quantize weights and biases using max-normalization (Strong quantization loss if distributions have large tails)\n",
    "parameters_int = []\n",
    "for w, b in zip(weights, biases):\n",
    "    w_int, b_int = to_integer(w, b, 8)\n",
    "    parameters_int += [w_int, b_int]\n",
    "\n",
    "# Set quantized weigths and biases for spiking model\n",
    "snn_nxmodel.set_weights(parameters_int)"
   ]
  },
  {
   "cell_type": "markdown",
   "metadata": {},
   "source": [
    "### Show parameter distribution"
   ]
  },
  {
   "cell_type": "code",
   "execution_count": 9,
   "metadata": {},
   "outputs": [],
   "source": [
    "def plotParamDist(params, params_int, max_val, num_bins=64):\n",
    "    num_layers = len(params)\n",
    "    for i, (p1, p2) in enumerate(zip(params, params_int)):\n",
    "        plt.subplot(1, num_layers, i+1)\n",
    "        scaled_p = np.ndarray.flatten(p1/max_val*255)\n",
    "        _, bins, _ = plt.hist(scaled_p, bins=num_bins, label='float (scaled)')\n",
    "        _ = plt.hist(np.ndarray.flatten(p2), bins=bins, alpha=0.5, label='int')\n",
    "        plt.title(\"Layer {}\".format(i+1))\n",
    "        plt.legend(loc='upper left')"
   ]
  },
  {
   "cell_type": "code",
   "execution_count": 10,
   "metadata": {},
   "outputs": [],
   "source": [
    "# %matplotlib\n",
    "%matplotlib inline"
   ]
  },
  {
   "cell_type": "markdown",
   "metadata": {},
   "source": [
    "#### Weight distribution"
   ]
  },
  {
   "cell_type": "code",
   "execution_count": 11,
   "metadata": {},
   "outputs": [
    {
     "data": {
      "image/png": "[encoded data removed]",
      "text/plain": [
       "<Figure size 1080x360 with 4 Axes>"
      ]
     },
     "metadata": {
      "needs_background": "light"
     },
     "output_type": "display_data"
    }
   ],
   "source": [
    "weights_int = parameters_int[0::2]\n",
    "biases_int = parameters_int[1::2]\n",
    "max_val = [np.max(np.abs(np.concatenate([w, b], None))) for w, b in zip(weights, biases)]\n",
    "max_val = np.max(max_val)\n",
    "\n",
    "plt.figure(figsize=(15,5))\n",
    "plotParamDist(weights, weights_int, max_val, num_bins=512)"
   ]
  },
  {
   "cell_type": "markdown",
   "metadata": {},
   "source": [
    "#### Bias distribution"
   ]
  },
  {
   "cell_type": "code",
   "execution_count": 12,
   "metadata": {},
   "outputs": [
    {
     "data": {
      "image/png": "[encoded data removed]",
      "text/plain": [
       "<Figure size 1080x360 with 4 Axes>"
      ]
     },
     "metadata": {
      "needs_background": "light"
     },
     "output_type": "display_data"
    }
   ],
   "source": [
    "plt.figure(figsize=(15,5))\n",
    "plotParamDist(biases, biases_int, max_val, num_bins=512)"
   ]
  },
  {
   "cell_type": "markdown",
   "metadata": {
    "pycharm": {
     "name": "#%% md\n"
    }
   },
   "source": [
    "## Instantiate composable DNN and InputGenerator"
   ]
  },
  {
   "cell_type": "code",
   "execution_count": 13,
   "metadata": {
    "pycharm": {
     "is_executing": false,
     "name": "#%%\n"
    }
   },
   "outputs": [],
   "source": [
    "from nxsdk_modules_ncl.dnn.composable.composable_dnn import ComposableDNN as DNN\n",
    "from nxsdk_modules.input_generator.input_generator import InputGenerator\n",
    "\n",
    "# NxModel is not yet implemented as a Composable -> Wrap it with DNN composable class\n",
    "dnn = DNN(model=snn_nxmodel, num_steps_per_img=num_steps_per_img)\n",
    "\n",
    "input_generator = InputGenerator(shape=input_shape, interval=num_steps_per_img)\n",
    "\n",
    "input_generator.setBiasExp(bias_exp)"
   ]
  },
  {
   "cell_type": "markdown",
   "metadata": {},
   "source": [
    "## Create Model pipeline, Add and Connect composables"
   ]
  },
  {
   "cell_type": "code",
   "execution_count": 14,
   "metadata": {},
   "outputs": [],
   "source": [
    "from nxsdk.composable.model import Model\n",
    "from nxsdk.logutils.nxlogging import set_verbosity,LoggingLevel\n",
    "set_verbosity(LoggingLevel.ERROR)\n",
    "\n",
    "# Initialize empty model\n",
    "snn_model = Model(\"dnn_model\")\n",
    "\n",
    "# Add DNN and InputGenerator to empty model\n",
    "snn_model.add(dnn)\n",
    "snn_model.add(input_generator)\n",
    "\n",
    "# Connect InputGenerator to DNN\n",
    "# (Explicit)\n",
    "# input_generator.ports.output.connect(dnn.ports.input)\n",
    "# (Implicit when ports can be inferred)\n",
    "input_generator.connect(dnn)\n",
    "\n",
    "# Enforce particular execution order or processes/snips executing in the same phase\n",
    "# (Here: Execute input injection as bias currents after network reset)\n",
    "input_generator.processes.inputEncoder.executeAfter(dnn.processes.reset)"
   ]
  },
  {
   "cell_type": "markdown",
   "metadata": {},
   "source": [
    "## Compilation\n",
    "\n",
    "Compile the entire model: This compiles all composables. Compiling a composable invokes partition/map/updatePorts on each of them. Aggregates all processes across all composables to create snips grouped by chip/lmt/phase. Finally, each composable can attach channels to snips and complete the connectivity once the full board utilization is known across all composables. See `Composable` documentation."
   ]
  },
  {
   "cell_type": "code",
   "execution_count": 15,
   "metadata": {},
   "outputs": [
    {
     "name": "stdout",
     "output_type": "stream",
     "text": [
      "x\n",
      "\n",
      "....x\n",
      "\n",
      "................x\n",
      "\n",
      "...x\n",
      "\n",
      "x\n",
      "\n"
     ]
    },
    {
     "data": {
      "text/plain": [
       "<nxsdk.graph.nxboard.N2Board at 0x7f069d56e5c0>"
      ]
     },
     "execution_count": 15,
     "metadata": {},
     "output_type": "execute_result"
    }
   ],
   "source": [
    "snn_model.compile()"
   ]
  },
  {
   "cell_type": "markdown",
   "metadata": {},
   "source": [
    "## Set up EnergyProbe"
   ]
  },
  {
   "cell_type": "code",
   "execution_count": 16,
   "metadata": {},
   "outputs": [],
   "source": [
    "if enable_energy_probe:\n",
    "    from nxsdk.api.enums.api_enums import ProbeParameter\n",
    "    from nxsdk.graph.monitor.probes import PerformanceProbeCondition\n",
    "    eProbe = snn_model.board.probe(\n",
    "        probeType=ProbeParameter.ENERGY, \n",
    "        probeCondition=PerformanceProbeCondition(\n",
    "            tStart=1, \n",
    "            tEnd=num_test_samples*num_steps_per_img, \n",
    "            bufferSize=1024, \n",
    "            binSize=execution_time_probe_bin_size))"
   ]
  },
  {
   "cell_type": "markdown",
   "metadata": {},
   "source": [
    "## Start the model"
   ]
  },
  {
   "cell_type": "code",
   "execution_count": 17,
   "metadata": {
    "scrolled": true
   },
   "outputs": [
    {
     "name": "stdout",
     "output_type": "stream",
     "text": [
      "    Encoding probes... snips... \r"
     ]
    }
   ],
   "source": [
    "snn_model.start(snn_nxmodel.board)"
   ]
  },
  {
   "cell_type": "markdown",
   "metadata": {},
   "source": [
    "## Define run function"
   ]
  },
  {
   "cell_type": "code",
   "execution_count": 18,
   "metadata": {},
   "outputs": [],
   "source": [
    "def runModel(num_steps_per_sample, x_test, y_test):\n",
    "    \"\"\"Runs the SNN Model to classify test images.\"\"\"\n",
    "      \n",
    "    # Initialize arrays for results\n",
    "    num_samples = len(y_test)\n",
    "    classifications = np.zeros(num_samples, int)\n",
    "    labels = np.zeros(num_samples, int)\n",
    "\n",
    "    # Run DNN to classify images\n",
    "    tStart = time.time()\n",
    "    snn_model.run(num_steps_per_sample * num_samples, aSync=True)\n",
    "    tEndBoot = time.time()\n",
    "\n",
    "    # Enqueue images by pushing them into InputGenerator\n",
    "    print(\"Queuing images...\")\n",
    "    for i, (x, y) in enumerate(zip((x_test* 255).astype(int), y_test)):\n",
    "        input_generator.encode(x)\n",
    "        labels[i] = np.argmax(y)\n",
    "    tEndInput = time.time()\n",
    "\n",
    "    # Read out classification results for all images\n",
    "    print(\"Waiting for classification to finish...\")\n",
    "    classifications = list(dnn.readout_channel.read(num_samples))\n",
    "    tEndClassification = time.time()\n",
    "    \n",
    "    # finishRun fetches EnergyProbe data if configured\n",
    "    snn_model.finishRun()\n",
    "    \n",
    "    return tStart, tEndBoot, tEndInput, tEndClassification, classifications, labels\n",
    "\n",
    "def calcAccuracy(classifications, labels):\n",
    "    \"\"\"Computes classification accuracy for a set of images given classification and labels.\"\"\"\n",
    "    errors = classifications != labels\n",
    "    num_errors = np.sum(errors)\n",
    "    num_samples = len(classifications)\n",
    "    return (num_samples-num_errors)/num_samples"
   ]
  },
  {
   "cell_type": "markdown",
   "metadata": {},
   "source": [
    "## Classify images with spiking model"
   ]
  },
  {
   "cell_type": "code",
   "execution_count": 19,
   "metadata": {},
   "outputs": [
    {
     "name": "stdout",
     "output_type": "stream",
     "text": [
      "Queuing images...spikes... . \n",
      "Waiting for classification to finish...\n",
      "    Processing timeseries... \r"
     ]
    }
   ],
   "source": [
    "tStart, tEndBoot, tEndInput, tEndClassification, classifications, labels = runModel(num_steps_per_img, \n",
    "                                                                                    x_test[:num_test_samples, :, :], \n",
    "                                                                                    y_test[:num_test_samples])"
   ]
  },
  {
   "cell_type": "code",
   "execution_count": 20,
   "metadata": {},
   "outputs": [],
   "source": [
    "if not measure_accuracy_runtime_trade_off:\n",
    "    snn_model.disconnect()"
   ]
  },
  {
   "cell_type": "markdown",
   "metadata": {},
   "source": [
    "## Show results"
   ]
  },
  {
   "cell_type": "markdown",
   "metadata": {},
   "source": [
    "### Define plotting function"
   ]
  },
  {
   "cell_type": "code",
   "execution_count": 21,
   "metadata": {},
   "outputs": [],
   "source": [
    "def plot_samples(samples, guesses, lables, numCols=5, size=28):\n",
    "    \"\"\"Plots samples as an array of images.\"\"\"\n",
    "    \n",
    "    import math\n",
    "    numSamples = len(samples)\n",
    "    numRows = int(math.ceil(numSamples/numCols))\n",
    "    plt.figure(3, figsize=(20, 10))\n",
    "    i = 0\n",
    "    for c in range(numCols):\n",
    "        for r in range(numRows):\n",
    "            plt.subplot(numRows, numCols, i+1)\n",
    "            plt.imshow(np.reshape(samples[i,:], (size, size)))\n",
    "            plt.axis('off')\n",
    "            plt.title('C:{}/L:{}'.format(guesses[i], lables[i]))\n",
    "            i += 1\n",
    "            if i == numSamples:\n",
    "                break\n",
    "        if i == numSamples:\n",
    "            break\n",
    "    plt.show()"
   ]
  },
  {
   "cell_type": "markdown",
   "metadata": {},
   "source": [
    "### Classification results\n",
    "Note: Since we are not using SNN-Toolbox in this example and instead convert weights from SNN to ANN manually without consideration of SNN saturation of weight clipping, classification accuracies can sometimes be bad."
   ]
  },
  {
   "cell_type": "code",
   "execution_count": 22,
   "metadata": {
    "pycharm": {
     "is_executing": false
    }
   },
   "outputs": [
    {
     "name": "stdout",
     "output_type": "stream",
     "text": [
      "Runtime statistics including boot, input generation and classification:\n",
      "-----------------------------------------------------------------------\n",
      "    Runtime till end of boot: 0.746 s\n",
      "    Runtime till end of input queueing: 2.646 s\n",
      "    Runtime till end of classification: 5.182 s\n",
      "    Effective average time per time step: 79.069us\n",
      "    Effective average classification time per sample: 40.483ms\n",
      "\n",
      "Accuracy metrics:\n",
      "    Number of incorrect classifications: 1 of 128\n",
      "    Classification accuracy: 99.22%\n",
      "\n",
      "Some correct classifications:\n"
     ]
    },
    {
     "data": {
      "image/png": "[encoded data removed]",
      "text/plain": [
       "<Figure size 1440x720 with 15 Axes>"
      ]
     },
     "metadata": {
      "needs_background": "light"
     },
     "output_type": "display_data"
    },
    {
     "name": "stdout",
     "output_type": "stream",
     "text": [
      "Incorrect classifications:\n"
     ]
    },
    {
     "data": {
      "image/png": "[encoded data removed]",
      "text/plain": [
       "<Figure size 1440x720 with 1 Axes>"
      ]
     },
     "metadata": {
      "needs_background": "light"
     },
     "output_type": "display_data"
    }
   ],
   "source": [
    "# Runtime statistics\n",
    "runtimeBoot = tEndBoot-tStart\n",
    "runtimeInput = tEndInput-tStart\n",
    "runtimeClassification = tEndClassification-tStart\n",
    "print(\"Runtime statistics including boot, input generation and classification:\")\n",
    "print(\"-----------------------------------------------------------------------\")\n",
    "print(\"    Runtime till end of boot: {:.3f} s\".format(runtimeBoot))\n",
    "print(\"    Runtime till end of input queueing: {:.3f} s\".format(runtimeInput))\n",
    "print(\"    Runtime till end of classification: {:.3f} s\".format(runtimeClassification))\n",
    "print(\"    Effective average time per time step: %.3fus\"%(runtimeClassification*1e6/(num_test_samples*num_steps_per_img)))\n",
    "print(\"    Effective average classification time per sample: %.3fms\"%(runtimeClassification*1e3/num_test_samples))\n",
    "print(\"\")\n",
    "\n",
    "# Accuracy statistics\n",
    "errors = classifications != labels\n",
    "num_errors = np.sum(errors)\n",
    "print(\"Accuracy metrics:\")\n",
    "print(\"    Number of incorrect classifications: {} of {}\".format(num_errors, num_test_samples))\n",
    "print(\"    Classification accuracy: {:.2%}\".format((num_test_samples-num_errors)/num_test_samples))\n",
    "print(\"\")\n",
    "\n",
    "# Show some correctly classified images\n",
    "maxShow = 15\n",
    "if num_errors < num_test_samples:\n",
    "    print(\"Some correct classifications:\")\n",
    "    correct_idx = np.where(errors==0)[0]\n",
    "    correct_idx = correct_idx[:min([maxShow, len(correct_idx)])]\n",
    "    plot_samples(\n",
    "        samples=x_test[correct_idx], \n",
    "        guesses=[classifications[i] for i in correct_idx], \n",
    "        lables=[labels[i] for i in correct_idx], \n",
    "        numCols=15)\n",
    "\n",
    "# Show incorrectly classified images\n",
    "if num_errors > 0:\n",
    "    print(\"Incorrect classifications:\")\n",
    "    error_idx = np.where(errors)[0]\n",
    "    error_idx = error_idx[:min([maxShow, len(correct_idx)])]\n",
    "    plot_samples(\n",
    "        samples=x_test[error_idx], \n",
    "        guesses=[classifications[i] for i in error_idx], \n",
    "        lables=[labels[i] for i in error_idx], \n",
    "        numCols=15)"
   ]
  },
  {
   "cell_type": "markdown",
   "metadata": {
    "pycharm": {
     "is_executing": false
    }
   },
   "source": [
    "### Performance statistics"
   ]
  },
  {
   "cell_type": "code",
   "execution_count": 23,
   "metadata": {},
   "outputs": [
    {
     "name": "stdout",
     "output_type": "stream",
     "text": [
      "Runtime statistics including input generation and classification:\n",
      "-----------------------------------------------------------------\n",
      "Average time per time step: 67.589us\n",
      "Average spiking time per time step: 62.337us\n",
      "Average management time per time step: 5.253us\n",
      "Average classification time per sample: 31.916ms\n",
      "Average I/O time per sample: 2.689ms\n"
     ]
    }
   ],
   "source": [
    "if enable_energy_probe:\n",
    "    import numpy as np\n",
    "    print(\"Runtime statistics including input generation and classification:\")\n",
    "    print(\"-----------------------------------------------------------------\")\n",
    "    print(\"Average time per time step: %.3fus\"%(np.mean(eProbe.totalTimePerTimeStep)))\n",
    "    print(\"Average spiking time per time step: %.3fus\"%(np.mean(eProbe.spikingTimePerTimeStep)))\n",
    "    print(\"Average management time per time step: %.3fus\"%(np.mean(eProbe.managementTimePerTimeStep)))\n",
    "    print(\"Average classification time per sample: %.3fms\"%(np.mean(eProbe.spikingTimePerTimeStep)*num_steps_per_img/1e3))\n",
    "    print(\"Average I/O time per sample: %.3fms\"%(np.mean(eProbe.managementTimePerTimeStep)*num_steps_per_img/1e3))"
   ]
  },
  {
   "cell_type": "code",
   "execution_count": 24,
   "metadata": {},
   "outputs": [
    {
     "data": {
      "image/png": "[encoded data removed]",
      "text/plain": [
       "<Figure size 1080x360 with 1 Axes>"
      ]
     },
     "metadata": {
      "needs_background": "light"
     },
     "output_type": "display_data"
    },
    {
     "data": {
      "image/png": "[encoded data removed]",
      "text/plain": [
       "<Figure size 1080x360 with 2 Axes>"
      ]
     },
     "metadata": {
      "needs_background": "light"
     },
     "output_type": "display_data"
    },
    {
     "data": {
      "image/png": "[encoded data removed]",
      "text/plain": [
       "<Figure size 1080x360 with 1 Axes>"
      ]
     },
     "metadata": {
      "needs_background": "light"
     },
     "output_type": "display_data"
    }
   ],
   "source": [
    "num_img_to_plot = 8\n",
    "\n",
    "if enable_energy_probe:\n",
    "    import matplotlib.pyplot as plt\n",
    "\n",
    "    plt.figure(figsize=(15,5))\n",
    "    eProbe.plotExecutionTime()\n",
    "    plt.xlim(0, num_steps_per_img*num_img_to_plot)\n",
    "    plt.gca().set_yscale('log')\n",
    "    plt.legend(loc='upper center')\n",
    "    \n",
    "    plt.figure(figsize=(15, 5))\n",
    "    plt.subplot(1, 2, 1)\n",
    "    plt.hist(eProbe.spikingTimePerTimeStep, bins=64)\n",
    "    plt.xlabel('Spike time per time step (us)')\n",
    "    plt.title(\"Spike time per time step histogram\")\n",
    "    \n",
    "    plt.subplot(1, 2, 2)\n",
    "    plt.hist(eProbe.managementTimePerTimeStep, bins=64)\n",
    "    plt.gca().set_xscale('log')\n",
    "    plt.xlabel('Management time per time step (us)')\n",
    "    plt.title(\"Management time per time step historgram\")\n",
    "    \n",
    "    # Note: Power measurements won't be accurate for small binSizes due to frequent executionTimeBuffer transfers\n",
    "    plt.figure(figsize=(15, 5))\n",
    "    eProbe.plotPower()"
   ]
  }
 ],
 "metadata": {
  "kernelspec": {
   "display_name": "Python 3",
   "language": "python",
   "name": "python3"
  },
  "language_info": {
   "codemirror_mode": {
    "name": "ipython",
    "version": 3
   },
   "file_extension": ".py",
   "mimetype": "text/x-python",
   "name": "python",
   "nbconvert_exporter": "python",
   "pygments_lexer": "ipython3",
   "version": "3.5.2"
  },
  "pycharm": {
   "stem_cell": {
    "cell_type": "raw",
    "metadata": {
     "collapsed": false
    },
    "source": []
   }
  }
 },
 "nbformat": 4,
 "nbformat_minor": 1
}
